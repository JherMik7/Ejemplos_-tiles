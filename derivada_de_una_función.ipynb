{
 "cells": [
  {
   "cell_type": "markdown",
   "metadata": {},
   "source": [
    "#### 2 formas de derivar una función\n",
    "$f(x)= \\dfrac{sen(x)e^{-cos(x)}x^5}{sen(10x^2)+4}$"
   ]
  },
  {
   "cell_type": "code",
   "execution_count": 62,
   "metadata": {},
   "outputs": [],
   "source": [
    "import numpy as np\n",
    "from scipy.misc import derivative\n",
    "import sympy as smp"
   ]
  },
  {
   "cell_type": "markdown",
   "metadata": {},
   "source": [
    "1. Derivada numérica (valor en un punto)"
   ]
  },
  {
   "cell_type": "code",
   "execution_count": 63,
   "metadata": {},
   "outputs": [],
   "source": [
    "def f(x):\n",
    "    return np.sin(x)*np.exp(-np.cos(x))*x**5 \\\n",
    "            /(np.sin(10*x**2)+4)"
   ]
  },
  {
   "cell_type": "code",
   "execution_count": 64,
   "metadata": {},
   "outputs": [
    {
     "data": {
      "text/plain": [
       "5.3909250397055075"
      ]
     },
     "execution_count": 64,
     "metadata": {},
     "output_type": "execute_result"
    }
   ],
   "source": [
    "derivative(f,3, dx=10e-10)"
   ]
  },
  {
   "cell_type": "markdown",
   "metadata": {},
   "source": [
    "2. Derivada simbólica"
   ]
  },
  {
   "cell_type": "markdown",
   "metadata": {},
   "source": []
  },
  {
   "cell_type": "code",
   "execution_count": 65,
   "metadata": {},
   "outputs": [],
   "source": [
    "x = smp.symbols('x')\n",
    "g = smp.sin(x)*smp.exp(-smp.cos(x))*x**5 \\\n",
    "    /(smp.sin(10*x**2)+4)"
   ]
  },
  {
   "cell_type": "code",
   "execution_count": 66,
   "metadata": {},
   "outputs": [
    {
     "data": {
      "text/latex": [
       "$\\displaystyle \\frac{x^{5} e^{- \\cos{\\left(x \\right)}} \\sin{\\left(x \\right)}}{\\sin{\\left(10 x^{2} \\right)} + 4}$"
      ],
      "text/plain": [
       "x**5*exp(-cos(x))*sin(x)/(sin(10*x**2) + 4)"
      ]
     },
     "execution_count": 66,
     "metadata": {},
     "output_type": "execute_result"
    }
   ],
   "source": [
    "g"
   ]
  },
  {
   "cell_type": "markdown",
   "metadata": {},
   "source": [
    "Derivamos:"
   ]
  },
  {
   "cell_type": "code",
   "execution_count": 67,
   "metadata": {},
   "outputs": [
    {
     "data": {
      "text/latex": [
       "$\\displaystyle - \\frac{20 x^{6} e^{- \\cos{\\left(x \\right)}} \\sin{\\left(x \\right)} \\cos{\\left(10 x^{2} \\right)}}{\\left(\\sin{\\left(10 x^{2} \\right)} + 4\\right)^{2}} + \\frac{x^{5} e^{- \\cos{\\left(x \\right)}} \\sin^{2}{\\left(x \\right)}}{\\sin{\\left(10 x^{2} \\right)} + 4} + \\frac{x^{5} e^{- \\cos{\\left(x \\right)}} \\cos{\\left(x \\right)}}{\\sin{\\left(10 x^{2} \\right)} + 4} + \\frac{5 x^{4} e^{- \\cos{\\left(x \\right)}} \\sin{\\left(x \\right)}}{\\sin{\\left(10 x^{2} \\right)} + 4}$"
      ],
      "text/plain": [
       "-20*x**6*exp(-cos(x))*sin(x)*cos(10*x**2)/(sin(10*x**2) + 4)**2 + x**5*exp(-cos(x))*sin(x)**2/(sin(10*x**2) + 4) + x**5*exp(-cos(x))*cos(x)/(sin(10*x**2) + 4) + 5*x**4*exp(-cos(x))*sin(x)/(sin(10*x**2) + 4)"
      ]
     },
     "execution_count": 67,
     "metadata": {},
     "output_type": "execute_result"
    }
   ],
   "source": [
    "smp.diff(g,x)"
   ]
  },
  {
   "cell_type": "code",
   "execution_count": 68,
   "metadata": {},
   "outputs": [],
   "source": [
    "dgdx = smp.diff(g, x)"
   ]
  },
  {
   "cell_type": "code",
   "execution_count": 69,
   "metadata": {},
   "outputs": [],
   "source": [
    "dgdx_numerica = smp.lambdify(x, dgdx, 'numpy')"
   ]
  },
  {
   "cell_type": "code",
   "execution_count": 70,
   "metadata": {},
   "outputs": [
    {
     "data": {
      "text/plain": [
       "5.390926709967626"
      ]
     },
     "execution_count": 70,
     "metadata": {},
     "output_type": "execute_result"
    }
   ],
   "source": [
    "dgdx_numerica(3)"
   ]
  }
 ],
 "metadata": {
  "kernelspec": {
   "display_name": "Python 3",
   "language": "python",
   "name": "python3"
  },
  "language_info": {
   "codemirror_mode": {
    "name": "ipython",
    "version": 3
   },
   "file_extension": ".py",
   "mimetype": "text/x-python",
   "name": "python",
   "nbconvert_exporter": "python",
   "pygments_lexer": "ipython3",
   "version": "3.11.0"
  },
  "orig_nbformat": 4
 },
 "nbformat": 4,
 "nbformat_minor": 2
}
