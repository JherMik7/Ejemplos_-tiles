{
 "cells": [
  {
   "cell_type": "markdown",
   "metadata": {},
   "source": [
    "#### 2 formas de derivar una función\n",
    "$f(x)= \\dfrac{sen(x)e^{-cos(x)}x^5}{sen(10x^2)+4}$"
   ]
  },
  {
   "cell_type": "code",
   "execution_count": 1,
   "metadata": {},
   "outputs": [],
   "source": [
    "import numpy as np\n",
    "from scipy.misc import derivative\n",
    "import sympy as smp"
   ]
  },
  {
   "cell_type": "markdown",
   "metadata": {},
   "source": [
    "1. Derivada numérica (valor en un punto)"
   ]
  },
  {
   "cell_type": "code",
   "execution_count": 2,
   "metadata": {},
   "outputs": [],
   "source": [
    "def f(x):\n",
    "    return np.sin(x)*np.exp(-np.cos(x))*x**5 \\\n",
    "            /(np.sin(10*x**2)+4)"
   ]
  },
  {
   "cell_type": "code",
   "execution_count": 3,
   "metadata": {},
   "outputs": [
    {
     "data": {
      "text/plain": [
       "5.39079891836991"
      ]
     },
     "execution_count": 3,
     "metadata": {},
     "output_type": "execute_result"
    }
   ],
   "source": [
    "derivative(f,3, dx=1e-10)"
   ]
  },
  {
   "cell_type": "markdown",
   "metadata": {},
   "source": [
    "2. Derivada simbólica"
   ]
  },
  {
   "cell_type": "code",
   "execution_count": 4,
   "metadata": {},
   "outputs": [],
   "source": [
    "x = smp.symbols('x')\n",
    "g = smp.sin(x)*smp.exp(-smp.cos(x))*x**5 \\\n",
    "    /(smp.sin(10*x**2)+4)"
   ]
  },
  {
   "cell_type": "code",
   "execution_count": 5,
   "metadata": {},
   "outputs": [
    {
     "data": {
      "text/latex": [
       "$\\displaystyle \\frac{x^{5} e^{- \\cos{\\left(x \\right)}} \\sin{\\left(x \\right)}}{\\sin{\\left(10 x^{2} \\right)} + 4}$"
      ],
      "text/plain": [
       "x**5*exp(-cos(x))*sin(x)/(sin(10*x**2) + 4)"
      ]
     },
     "execution_count": 5,
     "metadata": {},
     "output_type": "execute_result"
    }
   ],
   "source": [
    "g"
   ]
  },
  {
   "cell_type": "markdown",
   "metadata": {},
   "source": [
    "Derivamos:"
   ]
  },
  {
   "cell_type": "code",
   "execution_count": 6,
   "metadata": {},
   "outputs": [
    {
     "data": {
      "text/latex": [
       "$\\displaystyle - \\frac{20 x^{6} e^{- \\cos{\\left(x \\right)}} \\sin{\\left(x \\right)} \\cos{\\left(10 x^{2} \\right)}}{\\left(\\sin{\\left(10 x^{2} \\right)} + 4\\right)^{2}} + \\frac{x^{5} e^{- \\cos{\\left(x \\right)}} \\sin^{2}{\\left(x \\right)}}{\\sin{\\left(10 x^{2} \\right)} + 4} + \\frac{x^{5} e^{- \\cos{\\left(x \\right)}} \\cos{\\left(x \\right)}}{\\sin{\\left(10 x^{2} \\right)} + 4} + \\frac{5 x^{4} e^{- \\cos{\\left(x \\right)}} \\sin{\\left(x \\right)}}{\\sin{\\left(10 x^{2} \\right)} + 4}$"
      ],
      "text/plain": [
       "-20*x**6*exp(-cos(x))*sin(x)*cos(10*x**2)/(sin(10*x**2) + 4)**2 + x**5*exp(-cos(x))*sin(x)**2/(sin(10*x**2) + 4) + x**5*exp(-cos(x))*cos(x)/(sin(10*x**2) + 4) + 5*x**4*exp(-cos(x))*sin(x)/(sin(10*x**2) + 4)"
      ]
     },
     "execution_count": 6,
     "metadata": {},
     "output_type": "execute_result"
    }
   ],
   "source": [
    "smp.diff(g,x)"
   ]
  },
  {
   "cell_type": "code",
   "execution_count": 7,
   "metadata": {},
   "outputs": [],
   "source": [
    "dgdx = smp.diff(g, x)"
   ]
  },
  {
   "cell_type": "code",
   "execution_count": 8,
   "metadata": {},
   "outputs": [],
   "source": [
    "dgdx_numerica = smp.lambdify(x, dgdx, 'numpy')"
   ]
  },
  {
   "cell_type": "code",
   "execution_count": 9,
   "metadata": {},
   "outputs": [
    {
     "data": {
      "text/plain": [
       "5.390926709967626"
      ]
     },
     "execution_count": 9,
     "metadata": {},
     "output_type": "execute_result"
    }
   ],
   "source": [
    "dgdx_numerica(3)"
   ]
  },
  {
   "cell_type": "markdown",
   "metadata": {},
   "source": [
    "### Seguimos con el caso simbólico\n",
    "\n",
    "**Veamos más ejemplos**\n",
    "$$ f(x) = e^{-a sen(x^2)}\\cdot sen(b^x)\\cdot ln\\left(c \\ \\frac{sen^2 (x)}{x}\\right) $$\n",
    "\n",
    "Primero definimos todos los símbolos en sympy"
   ]
  },
  {
   "cell_type": "code",
   "execution_count": 10,
   "metadata": {},
   "outputs": [],
   "source": [
    "x, a, b, c = smp.symbols('x a b c', real = True)"
   ]
  },
  {
   "cell_type": "code",
   "execution_count": 11,
   "metadata": {},
   "outputs": [
    {
     "data": {
      "text/latex": [
       "$\\displaystyle x^{2} + e^{a}$"
      ],
      "text/plain": [
       "x**2 + exp(a)"
      ]
     },
     "execution_count": 11,
     "metadata": {},
     "output_type": "execute_result"
    }
   ],
   "source": [
    "x**2+smp.exp(a)"
   ]
  },
  {
   "cell_type": "code",
   "execution_count": 12,
   "metadata": {},
   "outputs": [],
   "source": [
    "x, a, b, c = smp.symbols('x a b c', real=True)\n",
    "f = smp.exp(-a*smp.sin(x**2))*smp.sin(b**x)*smp.log(c*smp.sin(x)**2 /x)"
   ]
  },
  {
   "cell_type": "markdown",
   "metadata": {},
   "source": [
    "Calculamos la derivada usando *smp.diff(f, x)* dondoe $f$ es la función que se quiere derivar y $x$ es la variable respecto a la que se quiere derivar."
   ]
  },
  {
   "cell_type": "code",
   "execution_count": 13,
   "metadata": {},
   "outputs": [
    {
     "data": {
      "text/latex": [
       "$\\displaystyle - 2 a x e^{- a \\sin{\\left(x^{2} \\right)}} \\log{\\left(\\frac{c \\sin^{2}{\\left(x \\right)}}{x} \\right)} \\sin{\\left(b^{x} \\right)} \\cos{\\left(x^{2} \\right)} + b^{x} e^{- a \\sin{\\left(x^{2} \\right)}} \\log{\\left(b \\right)} \\log{\\left(\\frac{c \\sin^{2}{\\left(x \\right)}}{x} \\right)} \\cos{\\left(b^{x} \\right)} + \\frac{x \\left(\\frac{2 c \\sin{\\left(x \\right)} \\cos{\\left(x \\right)}}{x} - \\frac{c \\sin^{2}{\\left(x \\right)}}{x^{2}}\\right) e^{- a \\sin{\\left(x^{2} \\right)}} \\sin{\\left(b^{x} \\right)}}{c \\sin^{2}{\\left(x \\right)}}$"
      ],
      "text/plain": [
       "-2*a*x*exp(-a*sin(x**2))*log(c*sin(x)**2/x)*sin(b**x)*cos(x**2) + b**x*exp(-a*sin(x**2))*log(b)*log(c*sin(x)**2/x)*cos(b**x) + x*(2*c*sin(x)*cos(x)/x - c*sin(x)**2/x**2)*exp(-a*sin(x**2))*sin(b**x)/(c*sin(x)**2)"
      ]
     },
     "execution_count": 13,
     "metadata": {},
     "output_type": "execute_result"
    }
   ],
   "source": [
    "dfdx = smp.diff(f,x)\n",
    "dfdx"
   ]
  },
  {
   "cell_type": "markdown",
   "metadata": {},
   "source": [
    "Podemos hallar la derivada enésima $d^n f /dx^n$ colocando el argumento opcional al final: smp.diff(f,x,n)"
   ]
  },
  {
   "cell_type": "code",
   "execution_count": 14,
   "metadata": {},
   "outputs": [
    {
     "data": {
      "text/latex": [
       "$\\displaystyle \\left(\\frac{24 a b^{x} x \\left(b^{x} \\sin{\\left(b^{x} \\right)} - \\cos{\\left(b^{x} \\right)}\\right) \\left(2 \\cos{\\left(x \\right)} - \\frac{\\sin{\\left(x \\right)}}{x}\\right) \\log{\\left(b \\right)}^{2} \\cos{\\left(x^{2} \\right)}}{\\sin{\\left(x \\right)}} + 8 a b^{x} x \\left(b^{2 x} \\cos{\\left(b^{x} \\right)} + 3 b^{x} \\sin{\\left(b^{x} \\right)} - \\cos{\\left(b^{x} \\right)}\\right) \\log{\\left(b \\right)}^{3} \\log{\\left(\\frac{c \\sin^{2}{\\left(x \\right)}}{x} \\right)} \\cos{\\left(x^{2} \\right)} + \\frac{24 a b^{x} x \\left(\\frac{2 \\left(2 \\cos{\\left(x \\right)} - \\frac{\\sin{\\left(x \\right)}}{x}\\right) \\cos{\\left(x \\right)}}{\\sin{\\left(x \\right)}} + \\frac{2 \\left(\\sin^{2}{\\left(x \\right)} - \\cos^{2}{\\left(x \\right)} + \\frac{2 \\sin{\\left(x \\right)} \\cos{\\left(x \\right)}}{x} - \\frac{\\sin^{2}{\\left(x \\right)}}{x^{2}}\\right)}{\\sin{\\left(x \\right)}} - \\frac{2 \\cos{\\left(x \\right)} - \\frac{\\sin{\\left(x \\right)}}{x}}{x}\\right) \\log{\\left(b \\right)} \\cos{\\left(b^{x} \\right)} \\cos{\\left(x^{2} \\right)}}{\\sin{\\left(x \\right)}} + 16 a b^{x} x \\left(- 2 a^{2} x^{2} \\cos^{3}{\\left(x^{2} \\right)} - 6 a x^{2} \\sin{\\left(x^{2} \\right)} \\cos{\\left(x^{2} \\right)} + 3 a \\cos^{2}{\\left(x^{2} \\right)} + 2 x^{2} \\cos{\\left(x^{2} \\right)} + 3 \\sin{\\left(x^{2} \\right)}\\right) \\log{\\left(b \\right)} \\log{\\left(\\frac{c \\sin^{2}{\\left(x \\right)}}{x} \\right)} \\cos{\\left(b^{x} \\right)} - 12 a b^{x} \\left(b^{x} \\sin{\\left(b^{x} \\right)} - \\cos{\\left(b^{x} \\right)}\\right) \\left(2 a x^{2} \\cos^{2}{\\left(x^{2} \\right)} + 2 x^{2} \\sin{\\left(x^{2} \\right)} - \\cos{\\left(x^{2} \\right)}\\right) \\log{\\left(b \\right)}^{2} \\log{\\left(\\frac{c \\sin^{2}{\\left(x \\right)}}{x} \\right)} + \\frac{24 a b^{x} \\left(2 \\cos{\\left(x \\right)} - \\frac{\\sin{\\left(x \\right)}}{x}\\right) \\left(2 a x^{2} \\cos^{2}{\\left(x^{2} \\right)} + 2 x^{2} \\sin{\\left(x^{2} \\right)} - \\cos{\\left(x^{2} \\right)}\\right) \\log{\\left(b \\right)} \\cos{\\left(b^{x} \\right)}}{\\sin{\\left(x \\right)}} + \\frac{16 a x \\left(2 \\cos{\\left(x \\right)} - \\frac{\\sin{\\left(x \\right)}}{x}\\right) \\left(- 2 a^{2} x^{2} \\cos^{3}{\\left(x^{2} \\right)} - 6 a x^{2} \\sin{\\left(x^{2} \\right)} \\cos{\\left(x^{2} \\right)} + 3 a \\cos^{2}{\\left(x^{2} \\right)} + 2 x^{2} \\cos{\\left(x^{2} \\right)} + 3 \\sin{\\left(x^{2} \\right)}\\right) \\sin{\\left(b^{x} \\right)}}{\\sin{\\left(x \\right)}} + \\frac{16 a x \\left(- \\frac{3 \\left(2 \\cos{\\left(x \\right)} - \\frac{\\sin{\\left(x \\right)}}{x}\\right) \\cos^{2}{\\left(x \\right)}}{\\sin^{2}{\\left(x \\right)}} - \\frac{4 \\left(\\sin^{2}{\\left(x \\right)} - \\cos^{2}{\\left(x \\right)} + \\frac{2 \\sin{\\left(x \\right)} \\cos{\\left(x \\right)}}{x} - \\frac{\\sin^{2}{\\left(x \\right)}}{x^{2}}\\right) \\cos{\\left(x \\right)}}{\\sin^{2}{\\left(x \\right)}} + \\frac{4 \\sin{\\left(x \\right)} \\cos{\\left(x \\right)} - \\frac{3 \\sin^{2}{\\left(x \\right)}}{x} + \\frac{3 \\cos^{2}{\\left(x \\right)}}{x} - \\frac{6 \\sin{\\left(x \\right)} \\cos{\\left(x \\right)}}{x^{2}} + \\frac{3 \\sin^{2}{\\left(x \\right)}}{x^{3}}}{\\sin{\\left(x \\right)}} - 2 \\cos{\\left(x \\right)} + \\frac{2 \\left(2 \\cos{\\left(x \\right)} - \\frac{\\sin{\\left(x \\right)}}{x}\\right) \\cos{\\left(x \\right)}}{x \\sin{\\left(x \\right)}} + \\frac{2 \\left(\\sin^{2}{\\left(x \\right)} - \\cos^{2}{\\left(x \\right)} + \\frac{2 \\sin{\\left(x \\right)} \\cos{\\left(x \\right)}}{x} - \\frac{\\sin^{2}{\\left(x \\right)}}{x^{2}}\\right)}{x \\sin{\\left(x \\right)}} + \\frac{\\sin{\\left(x \\right)}}{x}\\right) \\sin{\\left(b^{x} \\right)} \\cos{\\left(x^{2} \\right)}}{\\sin{\\left(x \\right)}} - \\frac{12 a \\left(2 a x^{2} \\cos^{2}{\\left(x^{2} \\right)} + 2 x^{2} \\sin{\\left(x^{2} \\right)} - \\cos{\\left(x^{2} \\right)}\\right) \\left(\\frac{2 \\left(2 \\cos{\\left(x \\right)} - \\frac{\\sin{\\left(x \\right)}}{x}\\right) \\cos{\\left(x \\right)}}{\\sin{\\left(x \\right)}} + \\frac{2 \\left(\\sin^{2}{\\left(x \\right)} - \\cos^{2}{\\left(x \\right)} + \\frac{2 \\sin{\\left(x \\right)} \\cos{\\left(x \\right)}}{x} - \\frac{\\sin^{2}{\\left(x \\right)}}{x^{2}}\\right)}{\\sin{\\left(x \\right)}} - \\frac{2 \\cos{\\left(x \\right)} - \\frac{\\sin{\\left(x \\right)}}{x}}{x}\\right) \\sin{\\left(b^{x} \\right)}}{\\sin{\\left(x \\right)}} + 4 a \\left(4 a^{3} x^{4} \\cos^{4}{\\left(x^{2} \\right)} + 24 a^{2} x^{4} \\sin{\\left(x^{2} \\right)} \\cos^{2}{\\left(x^{2} \\right)} - 12 a^{2} x^{2} \\cos^{3}{\\left(x^{2} \\right)} + 12 a x^{4} \\sin^{2}{\\left(x^{2} \\right)} - 16 a x^{4} \\cos^{2}{\\left(x^{2} \\right)} - 36 a x^{2} \\sin{\\left(x^{2} \\right)} \\cos{\\left(x^{2} \\right)} + 3 a \\cos^{2}{\\left(x^{2} \\right)} - 4 x^{4} \\sin{\\left(x^{2} \\right)} + 12 x^{2} \\cos{\\left(x^{2} \\right)} + 3 \\sin{\\left(x^{2} \\right)}\\right) \\log{\\left(\\frac{c \\sin^{2}{\\left(x \\right)}}{x} \\right)} \\sin{\\left(b^{x} \\right)} + \\frac{6 b^{x} \\left(b^{x} \\sin{\\left(b^{x} \\right)} - \\cos{\\left(b^{x} \\right)}\\right) \\left(\\frac{2 \\left(2 \\cos{\\left(x \\right)} - \\frac{\\sin{\\left(x \\right)}}{x}\\right) \\cos{\\left(x \\right)}}{\\sin{\\left(x \\right)}} + \\frac{2 \\left(\\sin^{2}{\\left(x \\right)} - \\cos^{2}{\\left(x \\right)} + \\frac{2 \\sin{\\left(x \\right)} \\cos{\\left(x \\right)}}{x} - \\frac{\\sin^{2}{\\left(x \\right)}}{x^{2}}\\right)}{\\sin{\\left(x \\right)}} - \\frac{2 \\cos{\\left(x \\right)} - \\frac{\\sin{\\left(x \\right)}}{x}}{x}\\right) \\log{\\left(b \\right)}^{2}}{\\sin{\\left(x \\right)}} - \\frac{4 b^{x} \\left(2 \\cos{\\left(x \\right)} - \\frac{\\sin{\\left(x \\right)}}{x}\\right) \\left(b^{2 x} \\cos{\\left(b^{x} \\right)} + 3 b^{x} \\sin{\\left(b^{x} \\right)} - \\cos{\\left(b^{x} \\right)}\\right) \\log{\\left(b \\right)}^{3}}{\\sin{\\left(x \\right)}} + b^{x} \\left(b^{3 x} \\sin{\\left(b^{x} \\right)} - 6 b^{2 x} \\cos{\\left(b^{x} \\right)} - 7 b^{x} \\sin{\\left(b^{x} \\right)} + \\cos{\\left(b^{x} \\right)}\\right) \\log{\\left(b \\right)}^{4} \\log{\\left(\\frac{c \\sin^{2}{\\left(x \\right)}}{x} \\right)} - \\frac{8 b^{x} \\left(- \\frac{3 \\left(2 \\cos{\\left(x \\right)} - \\frac{\\sin{\\left(x \\right)}}{x}\\right) \\cos^{2}{\\left(x \\right)}}{\\sin^{2}{\\left(x \\right)}} - \\frac{4 \\left(\\sin^{2}{\\left(x \\right)} - \\cos^{2}{\\left(x \\right)} + \\frac{2 \\sin{\\left(x \\right)} \\cos{\\left(x \\right)}}{x} - \\frac{\\sin^{2}{\\left(x \\right)}}{x^{2}}\\right) \\cos{\\left(x \\right)}}{\\sin^{2}{\\left(x \\right)}} + \\frac{4 \\sin{\\left(x \\right)} \\cos{\\left(x \\right)} - \\frac{3 \\sin^{2}{\\left(x \\right)}}{x} + \\frac{3 \\cos^{2}{\\left(x \\right)}}{x} - \\frac{6 \\sin{\\left(x \\right)} \\cos{\\left(x \\right)}}{x^{2}} + \\frac{3 \\sin^{2}{\\left(x \\right)}}{x^{3}}}{\\sin{\\left(x \\right)}} - 2 \\cos{\\left(x \\right)} + \\frac{2 \\left(2 \\cos{\\left(x \\right)} - \\frac{\\sin{\\left(x \\right)}}{x}\\right) \\cos{\\left(x \\right)}}{x \\sin{\\left(x \\right)}} + \\frac{2 \\left(\\sin^{2}{\\left(x \\right)} - \\cos^{2}{\\left(x \\right)} + \\frac{2 \\sin{\\left(x \\right)} \\cos{\\left(x \\right)}}{x} - \\frac{\\sin^{2}{\\left(x \\right)}}{x^{2}}\\right)}{x \\sin{\\left(x \\right)}} + \\frac{\\sin{\\left(x \\right)}}{x}\\right) \\log{\\left(b \\right)} \\cos{\\left(b^{x} \\right)}}{\\sin{\\left(x \\right)}} - \\frac{2 \\left(\\frac{8 \\left(2 \\cos{\\left(x \\right)} - \\frac{\\sin{\\left(x \\right)}}{x}\\right) \\cos{\\left(x \\right)}}{\\sin{\\left(x \\right)}} + \\frac{12 \\left(2 \\cos{\\left(x \\right)} - \\frac{\\sin{\\left(x \\right)}}{x}\\right) \\cos^{3}{\\left(x \\right)}}{\\sin^{3}{\\left(x \\right)}} + \\frac{6 \\left(\\sin^{2}{\\left(x \\right)} - \\cos^{2}{\\left(x \\right)} + \\frac{2 \\sin{\\left(x \\right)} \\cos{\\left(x \\right)}}{x} - \\frac{\\sin^{2}{\\left(x \\right)}}{x^{2}}\\right)}{\\sin{\\left(x \\right)}} + \\frac{18 \\left(\\sin^{2}{\\left(x \\right)} - \\cos^{2}{\\left(x \\right)} + \\frac{2 \\sin{\\left(x \\right)} \\cos{\\left(x \\right)}}{x} - \\frac{\\sin^{2}{\\left(x \\right)}}{x^{2}}\\right) \\cos^{2}{\\left(x \\right)}}{\\sin^{3}{\\left(x \\right)}} - \\frac{6 \\left(4 \\sin{\\left(x \\right)} \\cos{\\left(x \\right)} - \\frac{3 \\sin^{2}{\\left(x \\right)}}{x} + \\frac{3 \\cos^{2}{\\left(x \\right)}}{x} - \\frac{6 \\sin{\\left(x \\right)} \\cos{\\left(x \\right)}}{x^{2}} + \\frac{3 \\sin^{2}{\\left(x \\right)}}{x^{3}}\\right) \\cos{\\left(x \\right)}}{\\sin^{2}{\\left(x \\right)}} - \\frac{4 \\left(\\sin^{2}{\\left(x \\right)} - \\cos^{2}{\\left(x \\right)} + \\frac{4 \\sin{\\left(x \\right)} \\cos{\\left(x \\right)}}{x} - \\frac{3 \\sin^{2}{\\left(x \\right)}}{x^{2}} + \\frac{3 \\cos^{2}{\\left(x \\right)}}{x^{2}} - \\frac{6 \\sin{\\left(x \\right)} \\cos{\\left(x \\right)}}{x^{3}} + \\frac{3 \\sin^{2}{\\left(x \\right)}}{x^{4}}\\right)}{\\sin{\\left(x \\right)}} - \\frac{3 \\left(2 \\cos{\\left(x \\right)} - \\frac{\\sin{\\left(x \\right)}}{x}\\right)}{x} - \\frac{9 \\left(2 \\cos{\\left(x \\right)} - \\frac{\\sin{\\left(x \\right)}}{x}\\right) \\cos^{2}{\\left(x \\right)}}{x \\sin^{2}{\\left(x \\right)}} - \\frac{12 \\left(\\sin^{2}{\\left(x \\right)} - \\cos^{2}{\\left(x \\right)} + \\frac{2 \\sin{\\left(x \\right)} \\cos{\\left(x \\right)}}{x} - \\frac{\\sin^{2}{\\left(x \\right)}}{x^{2}}\\right) \\cos{\\left(x \\right)}}{x \\sin^{2}{\\left(x \\right)}} + \\frac{3 \\left(4 \\sin{\\left(x \\right)} \\cos{\\left(x \\right)} - \\frac{3 \\sin^{2}{\\left(x \\right)}}{x} + \\frac{3 \\cos^{2}{\\left(x \\right)}}{x} - \\frac{6 \\sin{\\left(x \\right)} \\cos{\\left(x \\right)}}{x^{2}} + \\frac{3 \\sin^{2}{\\left(x \\right)}}{x^{3}}\\right)}{x \\sin{\\left(x \\right)}}\\right) \\sin{\\left(b^{x} \\right)}}{\\sin{\\left(x \\right)}}\\right) e^{- a \\sin{\\left(x^{2} \\right)}}$"
      ],
      "text/plain": [
       "(24*a*b**x*x*(b**x*sin(b**x) - cos(b**x))*(2*cos(x) - sin(x)/x)*log(b)**2*cos(x**2)/sin(x) + 8*a*b**x*x*(b**(2*x)*cos(b**x) + 3*b**x*sin(b**x) - cos(b**x))*log(b)**3*log(c*sin(x)**2/x)*cos(x**2) + 24*a*b**x*x*(2*(2*cos(x) - sin(x)/x)*cos(x)/sin(x) + 2*(sin(x)**2 - cos(x)**2 + 2*sin(x)*cos(x)/x - sin(x)**2/x**2)/sin(x) - (2*cos(x) - sin(x)/x)/x)*log(b)*cos(b**x)*cos(x**2)/sin(x) + 16*a*b**x*x*(-2*a**2*x**2*cos(x**2)**3 - 6*a*x**2*sin(x**2)*cos(x**2) + 3*a*cos(x**2)**2 + 2*x**2*cos(x**2) + 3*sin(x**2))*log(b)*log(c*sin(x)**2/x)*cos(b**x) - 12*a*b**x*(b**x*sin(b**x) - cos(b**x))*(2*a*x**2*cos(x**2)**2 + 2*x**2*sin(x**2) - cos(x**2))*log(b)**2*log(c*sin(x)**2/x) + 24*a*b**x*(2*cos(x) - sin(x)/x)*(2*a*x**2*cos(x**2)**2 + 2*x**2*sin(x**2) - cos(x**2))*log(b)*cos(b**x)/sin(x) + 16*a*x*(2*cos(x) - sin(x)/x)*(-2*a**2*x**2*cos(x**2)**3 - 6*a*x**2*sin(x**2)*cos(x**2) + 3*a*cos(x**2)**2 + 2*x**2*cos(x**2) + 3*sin(x**2))*sin(b**x)/sin(x) + 16*a*x*(-3*(2*cos(x) - sin(x)/x)*cos(x)**2/sin(x)**2 - 4*(sin(x)**2 - cos(x)**2 + 2*sin(x)*cos(x)/x - sin(x)**2/x**2)*cos(x)/sin(x)**2 + (4*sin(x)*cos(x) - 3*sin(x)**2/x + 3*cos(x)**2/x - 6*sin(x)*cos(x)/x**2 + 3*sin(x)**2/x**3)/sin(x) - 2*cos(x) + 2*(2*cos(x) - sin(x)/x)*cos(x)/(x*sin(x)) + 2*(sin(x)**2 - cos(x)**2 + 2*sin(x)*cos(x)/x - sin(x)**2/x**2)/(x*sin(x)) + sin(x)/x)*sin(b**x)*cos(x**2)/sin(x) - 12*a*(2*a*x**2*cos(x**2)**2 + 2*x**2*sin(x**2) - cos(x**2))*(2*(2*cos(x) - sin(x)/x)*cos(x)/sin(x) + 2*(sin(x)**2 - cos(x)**2 + 2*sin(x)*cos(x)/x - sin(x)**2/x**2)/sin(x) - (2*cos(x) - sin(x)/x)/x)*sin(b**x)/sin(x) + 4*a*(4*a**3*x**4*cos(x**2)**4 + 24*a**2*x**4*sin(x**2)*cos(x**2)**2 - 12*a**2*x**2*cos(x**2)**3 + 12*a*x**4*sin(x**2)**2 - 16*a*x**4*cos(x**2)**2 - 36*a*x**2*sin(x**2)*cos(x**2) + 3*a*cos(x**2)**2 - 4*x**4*sin(x**2) + 12*x**2*cos(x**2) + 3*sin(x**2))*log(c*sin(x)**2/x)*sin(b**x) + 6*b**x*(b**x*sin(b**x) - cos(b**x))*(2*(2*cos(x) - sin(x)/x)*cos(x)/sin(x) + 2*(sin(x)**2 - cos(x)**2 + 2*sin(x)*cos(x)/x - sin(x)**2/x**2)/sin(x) - (2*cos(x) - sin(x)/x)/x)*log(b)**2/sin(x) - 4*b**x*(2*cos(x) - sin(x)/x)*(b**(2*x)*cos(b**x) + 3*b**x*sin(b**x) - cos(b**x))*log(b)**3/sin(x) + b**x*(b**(3*x)*sin(b**x) - 6*b**(2*x)*cos(b**x) - 7*b**x*sin(b**x) + cos(b**x))*log(b)**4*log(c*sin(x)**2/x) - 8*b**x*(-3*(2*cos(x) - sin(x)/x)*cos(x)**2/sin(x)**2 - 4*(sin(x)**2 - cos(x)**2 + 2*sin(x)*cos(x)/x - sin(x)**2/x**2)*cos(x)/sin(x)**2 + (4*sin(x)*cos(x) - 3*sin(x)**2/x + 3*cos(x)**2/x - 6*sin(x)*cos(x)/x**2 + 3*sin(x)**2/x**3)/sin(x) - 2*cos(x) + 2*(2*cos(x) - sin(x)/x)*cos(x)/(x*sin(x)) + 2*(sin(x)**2 - cos(x)**2 + 2*sin(x)*cos(x)/x - sin(x)**2/x**2)/(x*sin(x)) + sin(x)/x)*log(b)*cos(b**x)/sin(x) - 2*(8*(2*cos(x) - sin(x)/x)*cos(x)/sin(x) + 12*(2*cos(x) - sin(x)/x)*cos(x)**3/sin(x)**3 + 6*(sin(x)**2 - cos(x)**2 + 2*sin(x)*cos(x)/x - sin(x)**2/x**2)/sin(x) + 18*(sin(x)**2 - cos(x)**2 + 2*sin(x)*cos(x)/x - sin(x)**2/x**2)*cos(x)**2/sin(x)**3 - 6*(4*sin(x)*cos(x) - 3*sin(x)**2/x + 3*cos(x)**2/x - 6*sin(x)*cos(x)/x**2 + 3*sin(x)**2/x**3)*cos(x)/sin(x)**2 - 4*(sin(x)**2 - cos(x)**2 + 4*sin(x)*cos(x)/x - 3*sin(x)**2/x**2 + 3*cos(x)**2/x**2 - 6*sin(x)*cos(x)/x**3 + 3*sin(x)**2/x**4)/sin(x) - 3*(2*cos(x) - sin(x)/x)/x - 9*(2*cos(x) - sin(x)/x)*cos(x)**2/(x*sin(x)**2) - 12*(sin(x)**2 - cos(x)**2 + 2*sin(x)*cos(x)/x - sin(x)**2/x**2)*cos(x)/(x*sin(x)**2) + 3*(4*sin(x)*cos(x) - 3*sin(x)**2/x + 3*cos(x)**2/x - 6*sin(x)*cos(x)/x**2 + 3*sin(x)**2/x**3)/(x*sin(x)))*sin(b**x)/sin(x))*exp(-a*sin(x**2))"
      ]
     },
     "execution_count": 14,
     "metadata": {},
     "output_type": "execute_result"
    }
   ],
   "source": [
    "d4fdx4 = smp.diff(f, x, 4)\n",
    "d4fdx4 "
   ]
  },
  {
   "cell_type": "code",
   "execution_count": 15,
   "metadata": {},
   "outputs": [
    {
     "data": {
      "text/latex": [
       "$\\displaystyle \\left(- \\frac{60 a b^{x} x \\left(b^{x} \\sin{\\left(b^{x} \\right)} - \\cos{\\left(b^{x} \\right)}\\right) \\left(\\frac{2 \\left(2 \\cos{\\left(x \\right)} - \\frac{\\sin{\\left(x \\right)}}{x}\\right) \\cos{\\left(x \\right)}}{\\sin{\\left(x \\right)}} + \\frac{2 \\left(\\sin^{2}{\\left(x \\right)} - \\cos^{2}{\\left(x \\right)} + \\frac{2 \\sin{\\left(x \\right)} \\cos{\\left(x \\right)}}{x} - \\frac{\\sin^{2}{\\left(x \\right)}}{x^{2}}\\right)}{\\sin{\\left(x \\right)}} - \\frac{2 \\cos{\\left(x \\right)} - \\frac{\\sin{\\left(x \\right)}}{x}}{x}\\right) \\log{\\left(b \\right)}^{2} \\cos{\\left(x^{2} \\right)}}{\\sin{\\left(x \\right)}} - 40 a b^{x} x \\left(b^{x} \\sin{\\left(b^{x} \\right)} - \\cos{\\left(b^{x} \\right)}\\right) \\left(- 2 a^{2} x^{2} \\cos^{3}{\\left(x^{2} \\right)} - 6 a x^{2} \\sin{\\left(x^{2} \\right)} \\cos{\\left(x^{2} \\right)} + 3 a \\cos^{2}{\\left(x^{2} \\right)} + 2 x^{2} \\cos{\\left(x^{2} \\right)} + 3 \\sin{\\left(x^{2} \\right)}\\right) \\log{\\left(b \\right)}^{2} \\log{\\left(\\frac{c \\sin^{2}{\\left(x \\right)}}{x} \\right)} + \\frac{40 a b^{x} x \\left(2 \\cos{\\left(x \\right)} - \\frac{\\sin{\\left(x \\right)}}{x}\\right) \\left(b^{2 x} \\cos{\\left(b^{x} \\right)} + 3 b^{x} \\sin{\\left(b^{x} \\right)} - \\cos{\\left(b^{x} \\right)}\\right) \\log{\\left(b \\right)}^{3} \\cos{\\left(x^{2} \\right)}}{\\sin{\\left(x \\right)}} + \\frac{80 a b^{x} x \\left(2 \\cos{\\left(x \\right)} - \\frac{\\sin{\\left(x \\right)}}{x}\\right) \\left(- 2 a^{2} x^{2} \\cos^{3}{\\left(x^{2} \\right)} - 6 a x^{2} \\sin{\\left(x^{2} \\right)} \\cos{\\left(x^{2} \\right)} + 3 a \\cos^{2}{\\left(x^{2} \\right)} + 2 x^{2} \\cos{\\left(x^{2} \\right)} + 3 \\sin{\\left(x^{2} \\right)}\\right) \\log{\\left(b \\right)} \\cos{\\left(b^{x} \\right)}}{\\sin{\\left(x \\right)}} - 10 a b^{x} x \\left(b^{3 x} \\sin{\\left(b^{x} \\right)} - 6 b^{2 x} \\cos{\\left(b^{x} \\right)} - 7 b^{x} \\sin{\\left(b^{x} \\right)} + \\cos{\\left(b^{x} \\right)}\\right) \\log{\\left(b \\right)}^{4} \\log{\\left(\\frac{c \\sin^{2}{\\left(x \\right)}}{x} \\right)} \\cos{\\left(x^{2} \\right)} + \\frac{80 a b^{x} x \\left(- \\frac{3 \\left(2 \\cos{\\left(x \\right)} - \\frac{\\sin{\\left(x \\right)}}{x}\\right) \\cos^{2}{\\left(x \\right)}}{\\sin^{2}{\\left(x \\right)}} - \\frac{4 \\left(\\sin^{2}{\\left(x \\right)} - \\cos^{2}{\\left(x \\right)} + \\frac{2 \\sin{\\left(x \\right)} \\cos{\\left(x \\right)}}{x} - \\frac{\\sin^{2}{\\left(x \\right)}}{x^{2}}\\right) \\cos{\\left(x \\right)}}{\\sin^{2}{\\left(x \\right)}} + \\frac{4 \\sin{\\left(x \\right)} \\cos{\\left(x \\right)} - \\frac{3 \\sin^{2}{\\left(x \\right)}}{x} + \\frac{3 \\cos^{2}{\\left(x \\right)}}{x} - \\frac{6 \\sin{\\left(x \\right)} \\cos{\\left(x \\right)}}{x^{2}} + \\frac{3 \\sin^{2}{\\left(x \\right)}}{x^{3}}}{\\sin{\\left(x \\right)}} - 2 \\cos{\\left(x \\right)} + \\frac{2 \\left(2 \\cos{\\left(x \\right)} - \\frac{\\sin{\\left(x \\right)}}{x}\\right) \\cos{\\left(x \\right)}}{x \\sin{\\left(x \\right)}} + \\frac{2 \\left(\\sin^{2}{\\left(x \\right)} - \\cos^{2}{\\left(x \\right)} + \\frac{2 \\sin{\\left(x \\right)} \\cos{\\left(x \\right)}}{x} - \\frac{\\sin^{2}{\\left(x \\right)}}{x^{2}}\\right)}{x \\sin{\\left(x \\right)}} + \\frac{\\sin{\\left(x \\right)}}{x}\\right) \\log{\\left(b \\right)} \\cos{\\left(b^{x} \\right)} \\cos{\\left(x^{2} \\right)}}{\\sin{\\left(x \\right)}} - \\frac{60 a b^{x} \\left(b^{x} \\sin{\\left(b^{x} \\right)} - \\cos{\\left(b^{x} \\right)}\\right) \\left(2 \\cos{\\left(x \\right)} - \\frac{\\sin{\\left(x \\right)}}{x}\\right) \\left(2 a x^{2} \\cos^{2}{\\left(x^{2} \\right)} + 2 x^{2} \\sin{\\left(x^{2} \\right)} - \\cos{\\left(x^{2} \\right)}\\right) \\log{\\left(b \\right)}^{2}}{\\sin{\\left(x \\right)}} - 20 a b^{x} \\left(b^{2 x} \\cos{\\left(b^{x} \\right)} + 3 b^{x} \\sin{\\left(b^{x} \\right)} - \\cos{\\left(b^{x} \\right)}\\right) \\left(2 a x^{2} \\cos^{2}{\\left(x^{2} \\right)} + 2 x^{2} \\sin{\\left(x^{2} \\right)} - \\cos{\\left(x^{2} \\right)}\\right) \\log{\\left(b \\right)}^{3} \\log{\\left(\\frac{c \\sin^{2}{\\left(x \\right)}}{x} \\right)} - \\frac{60 a b^{x} \\left(2 a x^{2} \\cos^{2}{\\left(x^{2} \\right)} + 2 x^{2} \\sin{\\left(x^{2} \\right)} - \\cos{\\left(x^{2} \\right)}\\right) \\left(\\frac{2 \\left(2 \\cos{\\left(x \\right)} - \\frac{\\sin{\\left(x \\right)}}{x}\\right) \\cos{\\left(x \\right)}}{\\sin{\\left(x \\right)}} + \\frac{2 \\left(\\sin^{2}{\\left(x \\right)} - \\cos^{2}{\\left(x \\right)} + \\frac{2 \\sin{\\left(x \\right)} \\cos{\\left(x \\right)}}{x} - \\frac{\\sin^{2}{\\left(x \\right)}}{x^{2}}\\right)}{\\sin{\\left(x \\right)}} - \\frac{2 \\cos{\\left(x \\right)} - \\frac{\\sin{\\left(x \\right)}}{x}}{x}\\right) \\log{\\left(b \\right)} \\cos{\\left(b^{x} \\right)}}{\\sin{\\left(x \\right)}} + 20 a b^{x} \\left(4 a^{3} x^{4} \\cos^{4}{\\left(x^{2} \\right)} + 24 a^{2} x^{4} \\sin{\\left(x^{2} \\right)} \\cos^{2}{\\left(x^{2} \\right)} - 12 a^{2} x^{2} \\cos^{3}{\\left(x^{2} \\right)} + 12 a x^{4} \\sin^{2}{\\left(x^{2} \\right)} - 16 a x^{4} \\cos^{2}{\\left(x^{2} \\right)} - 36 a x^{2} \\sin{\\left(x^{2} \\right)} \\cos{\\left(x^{2} \\right)} + 3 a \\cos^{2}{\\left(x^{2} \\right)} - 4 x^{4} \\sin{\\left(x^{2} \\right)} + 12 x^{2} \\cos{\\left(x^{2} \\right)} + 3 \\sin{\\left(x^{2} \\right)}\\right) \\log{\\left(b \\right)} \\log{\\left(\\frac{c \\sin^{2}{\\left(x \\right)}}{x} \\right)} \\cos{\\left(b^{x} \\right)} - \\frac{40 a x \\left(\\frac{2 \\left(2 \\cos{\\left(x \\right)} - \\frac{\\sin{\\left(x \\right)}}{x}\\right) \\cos{\\left(x \\right)}}{\\sin{\\left(x \\right)}} + \\frac{2 \\left(\\sin^{2}{\\left(x \\right)} - \\cos^{2}{\\left(x \\right)} + \\frac{2 \\sin{\\left(x \\right)} \\cos{\\left(x \\right)}}{x} - \\frac{\\sin^{2}{\\left(x \\right)}}{x^{2}}\\right)}{\\sin{\\left(x \\right)}} - \\frac{2 \\cos{\\left(x \\right)} - \\frac{\\sin{\\left(x \\right)}}{x}}{x}\\right) \\left(- 2 a^{2} x^{2} \\cos^{3}{\\left(x^{2} \\right)} - 6 a x^{2} \\sin{\\left(x^{2} \\right)} \\cos{\\left(x^{2} \\right)} + 3 a \\cos^{2}{\\left(x^{2} \\right)} + 2 x^{2} \\cos{\\left(x^{2} \\right)} + 3 \\sin{\\left(x^{2} \\right)}\\right) \\sin{\\left(b^{x} \\right)}}{\\sin{\\left(x \\right)}} + \\frac{20 a x \\left(\\frac{8 \\left(2 \\cos{\\left(x \\right)} - \\frac{\\sin{\\left(x \\right)}}{x}\\right) \\cos{\\left(x \\right)}}{\\sin{\\left(x \\right)}} + \\frac{12 \\left(2 \\cos{\\left(x \\right)} - \\frac{\\sin{\\left(x \\right)}}{x}\\right) \\cos^{3}{\\left(x \\right)}}{\\sin^{3}{\\left(x \\right)}} + \\frac{6 \\left(\\sin^{2}{\\left(x \\right)} - \\cos^{2}{\\left(x \\right)} + \\frac{2 \\sin{\\left(x \\right)} \\cos{\\left(x \\right)}}{x} - \\frac{\\sin^{2}{\\left(x \\right)}}{x^{2}}\\right)}{\\sin{\\left(x \\right)}} + \\frac{18 \\left(\\sin^{2}{\\left(x \\right)} - \\cos^{2}{\\left(x \\right)} + \\frac{2 \\sin{\\left(x \\right)} \\cos{\\left(x \\right)}}{x} - \\frac{\\sin^{2}{\\left(x \\right)}}{x^{2}}\\right) \\cos^{2}{\\left(x \\right)}}{\\sin^{3}{\\left(x \\right)}} - \\frac{6 \\left(4 \\sin{\\left(x \\right)} \\cos{\\left(x \\right)} - \\frac{3 \\sin^{2}{\\left(x \\right)}}{x} + \\frac{3 \\cos^{2}{\\left(x \\right)}}{x} - \\frac{6 \\sin{\\left(x \\right)} \\cos{\\left(x \\right)}}{x^{2}} + \\frac{3 \\sin^{2}{\\left(x \\right)}}{x^{3}}\\right) \\cos{\\left(x \\right)}}{\\sin^{2}{\\left(x \\right)}} - \\frac{4 \\left(\\sin^{2}{\\left(x \\right)} - \\cos^{2}{\\left(x \\right)} + \\frac{4 \\sin{\\left(x \\right)} \\cos{\\left(x \\right)}}{x} - \\frac{3 \\sin^{2}{\\left(x \\right)}}{x^{2}} + \\frac{3 \\cos^{2}{\\left(x \\right)}}{x^{2}} - \\frac{6 \\sin{\\left(x \\right)} \\cos{\\left(x \\right)}}{x^{3}} + \\frac{3 \\sin^{2}{\\left(x \\right)}}{x^{4}}\\right)}{\\sin{\\left(x \\right)}} - \\frac{3 \\left(2 \\cos{\\left(x \\right)} - \\frac{\\sin{\\left(x \\right)}}{x}\\right)}{x} - \\frac{9 \\left(2 \\cos{\\left(x \\right)} - \\frac{\\sin{\\left(x \\right)}}{x}\\right) \\cos^{2}{\\left(x \\right)}}{x \\sin^{2}{\\left(x \\right)}} - \\frac{12 \\left(\\sin^{2}{\\left(x \\right)} - \\cos^{2}{\\left(x \\right)} + \\frac{2 \\sin{\\left(x \\right)} \\cos{\\left(x \\right)}}{x} - \\frac{\\sin^{2}{\\left(x \\right)}}{x^{2}}\\right) \\cos{\\left(x \\right)}}{x \\sin^{2}{\\left(x \\right)}} + \\frac{3 \\left(4 \\sin{\\left(x \\right)} \\cos{\\left(x \\right)} - \\frac{3 \\sin^{2}{\\left(x \\right)}}{x} + \\frac{3 \\cos^{2}{\\left(x \\right)}}{x} - \\frac{6 \\sin{\\left(x \\right)} \\cos{\\left(x \\right)}}{x^{2}} + \\frac{3 \\sin^{2}{\\left(x \\right)}}{x^{3}}\\right)}{x \\sin{\\left(x \\right)}}\\right) \\sin{\\left(b^{x} \\right)} \\cos{\\left(x^{2} \\right)}}{\\sin{\\left(x \\right)}} - 8 a x \\left(4 a^{4} x^{4} \\cos^{5}{\\left(x^{2} \\right)} + 40 a^{3} x^{4} \\sin{\\left(x^{2} \\right)} \\cos^{3}{\\left(x^{2} \\right)} - 20 a^{3} x^{2} \\cos^{4}{\\left(x^{2} \\right)} + 60 a^{2} x^{4} \\sin^{2}{\\left(x^{2} \\right)} \\cos{\\left(x^{2} \\right)} - 40 a^{2} x^{4} \\cos^{3}{\\left(x^{2} \\right)} - 120 a^{2} x^{2} \\sin{\\left(x^{2} \\right)} \\cos^{2}{\\left(x^{2} \\right)} + 15 a^{2} \\cos^{3}{\\left(x^{2} \\right)} - 60 a x^{4} \\sin{\\left(x^{2} \\right)} \\cos{\\left(x^{2} \\right)} - 60 a x^{2} \\sin^{2}{\\left(x^{2} \\right)} + 80 a x^{2} \\cos^{2}{\\left(x^{2} \\right)} + 45 a \\sin{\\left(x^{2} \\right)} \\cos{\\left(x^{2} \\right)} + 4 x^{4} \\cos{\\left(x^{2} \\right)} + 20 x^{2} \\sin{\\left(x^{2} \\right)} - 15 \\cos{\\left(x^{2} \\right)}\\right) \\log{\\left(\\frac{c \\sin^{2}{\\left(x \\right)}}{x} \\right)} \\sin{\\left(b^{x} \\right)} + \\frac{20 a \\left(2 \\cos{\\left(x \\right)} - \\frac{\\sin{\\left(x \\right)}}{x}\\right) \\left(4 a^{3} x^{4} \\cos^{4}{\\left(x^{2} \\right)} + 24 a^{2} x^{4} \\sin{\\left(x^{2} \\right)} \\cos^{2}{\\left(x^{2} \\right)} - 12 a^{2} x^{2} \\cos^{3}{\\left(x^{2} \\right)} + 12 a x^{4} \\sin^{2}{\\left(x^{2} \\right)} - 16 a x^{4} \\cos^{2}{\\left(x^{2} \\right)} - 36 a x^{2} \\sin{\\left(x^{2} \\right)} \\cos{\\left(x^{2} \\right)} + 3 a \\cos^{2}{\\left(x^{2} \\right)} - 4 x^{4} \\sin{\\left(x^{2} \\right)} + 12 x^{2} \\cos{\\left(x^{2} \\right)} + 3 \\sin{\\left(x^{2} \\right)}\\right) \\sin{\\left(b^{x} \\right)}}{\\sin{\\left(x \\right)}} - \\frac{40 a \\left(2 a x^{2} \\cos^{2}{\\left(x^{2} \\right)} + 2 x^{2} \\sin{\\left(x^{2} \\right)} - \\cos{\\left(x^{2} \\right)}\\right) \\left(- \\frac{3 \\left(2 \\cos{\\left(x \\right)} - \\frac{\\sin{\\left(x \\right)}}{x}\\right) \\cos^{2}{\\left(x \\right)}}{\\sin^{2}{\\left(x \\right)}} - \\frac{4 \\left(\\sin^{2}{\\left(x \\right)} - \\cos^{2}{\\left(x \\right)} + \\frac{2 \\sin{\\left(x \\right)} \\cos{\\left(x \\right)}}{x} - \\frac{\\sin^{2}{\\left(x \\right)}}{x^{2}}\\right) \\cos{\\left(x \\right)}}{\\sin^{2}{\\left(x \\right)}} + \\frac{4 \\sin{\\left(x \\right)} \\cos{\\left(x \\right)} - \\frac{3 \\sin^{2}{\\left(x \\right)}}{x} + \\frac{3 \\cos^{2}{\\left(x \\right)}}{x} - \\frac{6 \\sin{\\left(x \\right)} \\cos{\\left(x \\right)}}{x^{2}} + \\frac{3 \\sin^{2}{\\left(x \\right)}}{x^{3}}}{\\sin{\\left(x \\right)}} - 2 \\cos{\\left(x \\right)} + \\frac{2 \\left(2 \\cos{\\left(x \\right)} - \\frac{\\sin{\\left(x \\right)}}{x}\\right) \\cos{\\left(x \\right)}}{x \\sin{\\left(x \\right)}} + \\frac{2 \\left(\\sin^{2}{\\left(x \\right)} - \\cos^{2}{\\left(x \\right)} + \\frac{2 \\sin{\\left(x \\right)} \\cos{\\left(x \\right)}}{x} - \\frac{\\sin^{2}{\\left(x \\right)}}{x^{2}}\\right)}{x \\sin{\\left(x \\right)}} + \\frac{\\sin{\\left(x \\right)}}{x}\\right) \\sin{\\left(b^{x} \\right)}}{\\sin{\\left(x \\right)}} + \\frac{20 b^{x} \\left(b^{x} \\sin{\\left(b^{x} \\right)} - \\cos{\\left(b^{x} \\right)}\\right) \\left(- \\frac{3 \\left(2 \\cos{\\left(x \\right)} - \\frac{\\sin{\\left(x \\right)}}{x}\\right) \\cos^{2}{\\left(x \\right)}}{\\sin^{2}{\\left(x \\right)}} - \\frac{4 \\left(\\sin^{2}{\\left(x \\right)} - \\cos^{2}{\\left(x \\right)} + \\frac{2 \\sin{\\left(x \\right)} \\cos{\\left(x \\right)}}{x} - \\frac{\\sin^{2}{\\left(x \\right)}}{x^{2}}\\right) \\cos{\\left(x \\right)}}{\\sin^{2}{\\left(x \\right)}} + \\frac{4 \\sin{\\left(x \\right)} \\cos{\\left(x \\right)} - \\frac{3 \\sin^{2}{\\left(x \\right)}}{x} + \\frac{3 \\cos^{2}{\\left(x \\right)}}{x} - \\frac{6 \\sin{\\left(x \\right)} \\cos{\\left(x \\right)}}{x^{2}} + \\frac{3 \\sin^{2}{\\left(x \\right)}}{x^{3}}}{\\sin{\\left(x \\right)}} - 2 \\cos{\\left(x \\right)} + \\frac{2 \\left(2 \\cos{\\left(x \\right)} - \\frac{\\sin{\\left(x \\right)}}{x}\\right) \\cos{\\left(x \\right)}}{x \\sin{\\left(x \\right)}} + \\frac{2 \\left(\\sin^{2}{\\left(x \\right)} - \\cos^{2}{\\left(x \\right)} + \\frac{2 \\sin{\\left(x \\right)} \\cos{\\left(x \\right)}}{x} - \\frac{\\sin^{2}{\\left(x \\right)}}{x^{2}}\\right)}{x \\sin{\\left(x \\right)}} + \\frac{\\sin{\\left(x \\right)}}{x}\\right) \\log{\\left(b \\right)}^{2}}{\\sin{\\left(x \\right)}} + \\frac{5 b^{x} \\left(2 \\cos{\\left(x \\right)} - \\frac{\\sin{\\left(x \\right)}}{x}\\right) \\left(b^{3 x} \\sin{\\left(b^{x} \\right)} - 6 b^{2 x} \\cos{\\left(b^{x} \\right)} - 7 b^{x} \\sin{\\left(b^{x} \\right)} + \\cos{\\left(b^{x} \\right)}\\right) \\log{\\left(b \\right)}^{4}}{\\sin{\\left(x \\right)}} + \\frac{10 b^{x} \\left(b^{2 x} \\cos{\\left(b^{x} \\right)} + 3 b^{x} \\sin{\\left(b^{x} \\right)} - \\cos{\\left(b^{x} \\right)}\\right) \\left(\\frac{2 \\left(2 \\cos{\\left(x \\right)} - \\frac{\\sin{\\left(x \\right)}}{x}\\right) \\cos{\\left(x \\right)}}{\\sin{\\left(x \\right)}} + \\frac{2 \\left(\\sin^{2}{\\left(x \\right)} - \\cos^{2}{\\left(x \\right)} + \\frac{2 \\sin{\\left(x \\right)} \\cos{\\left(x \\right)}}{x} - \\frac{\\sin^{2}{\\left(x \\right)}}{x^{2}}\\right)}{\\sin{\\left(x \\right)}} - \\frac{2 \\cos{\\left(x \\right)} - \\frac{\\sin{\\left(x \\right)}}{x}}{x}\\right) \\log{\\left(b \\right)}^{3}}{\\sin{\\left(x \\right)}} + b^{x} \\left(b^{4 x} \\cos{\\left(b^{x} \\right)} + 10 b^{3 x} \\sin{\\left(b^{x} \\right)} - 25 b^{2 x} \\cos{\\left(b^{x} \\right)} - 15 b^{x} \\sin{\\left(b^{x} \\right)} + \\cos{\\left(b^{x} \\right)}\\right) \\log{\\left(b \\right)}^{5} \\log{\\left(\\frac{c \\sin^{2}{\\left(x \\right)}}{x} \\right)} - \\frac{10 b^{x} \\left(\\frac{8 \\left(2 \\cos{\\left(x \\right)} - \\frac{\\sin{\\left(x \\right)}}{x}\\right) \\cos{\\left(x \\right)}}{\\sin{\\left(x \\right)}} + \\frac{12 \\left(2 \\cos{\\left(x \\right)} - \\frac{\\sin{\\left(x \\right)}}{x}\\right) \\cos^{3}{\\left(x \\right)}}{\\sin^{3}{\\left(x \\right)}} + \\frac{6 \\left(\\sin^{2}{\\left(x \\right)} - \\cos^{2}{\\left(x \\right)} + \\frac{2 \\sin{\\left(x \\right)} \\cos{\\left(x \\right)}}{x} - \\frac{\\sin^{2}{\\left(x \\right)}}{x^{2}}\\right)}{\\sin{\\left(x \\right)}} + \\frac{18 \\left(\\sin^{2}{\\left(x \\right)} - \\cos^{2}{\\left(x \\right)} + \\frac{2 \\sin{\\left(x \\right)} \\cos{\\left(x \\right)}}{x} - \\frac{\\sin^{2}{\\left(x \\right)}}{x^{2}}\\right) \\cos^{2}{\\left(x \\right)}}{\\sin^{3}{\\left(x \\right)}} - \\frac{6 \\left(4 \\sin{\\left(x \\right)} \\cos{\\left(x \\right)} - \\frac{3 \\sin^{2}{\\left(x \\right)}}{x} + \\frac{3 \\cos^{2}{\\left(x \\right)}}{x} - \\frac{6 \\sin{\\left(x \\right)} \\cos{\\left(x \\right)}}{x^{2}} + \\frac{3 \\sin^{2}{\\left(x \\right)}}{x^{3}}\\right) \\cos{\\left(x \\right)}}{\\sin^{2}{\\left(x \\right)}} - \\frac{4 \\left(\\sin^{2}{\\left(x \\right)} - \\cos^{2}{\\left(x \\right)} + \\frac{4 \\sin{\\left(x \\right)} \\cos{\\left(x \\right)}}{x} - \\frac{3 \\sin^{2}{\\left(x \\right)}}{x^{2}} + \\frac{3 \\cos^{2}{\\left(x \\right)}}{x^{2}} - \\frac{6 \\sin{\\left(x \\right)} \\cos{\\left(x \\right)}}{x^{3}} + \\frac{3 \\sin^{2}{\\left(x \\right)}}{x^{4}}\\right)}{\\sin{\\left(x \\right)}} - \\frac{3 \\left(2 \\cos{\\left(x \\right)} - \\frac{\\sin{\\left(x \\right)}}{x}\\right)}{x} - \\frac{9 \\left(2 \\cos{\\left(x \\right)} - \\frac{\\sin{\\left(x \\right)}}{x}\\right) \\cos^{2}{\\left(x \\right)}}{x \\sin^{2}{\\left(x \\right)}} - \\frac{12 \\left(\\sin^{2}{\\left(x \\right)} - \\cos^{2}{\\left(x \\right)} + \\frac{2 \\sin{\\left(x \\right)} \\cos{\\left(x \\right)}}{x} - \\frac{\\sin^{2}{\\left(x \\right)}}{x^{2}}\\right) \\cos{\\left(x \\right)}}{x \\sin^{2}{\\left(x \\right)}} + \\frac{3 \\left(4 \\sin{\\left(x \\right)} \\cos{\\left(x \\right)} - \\frac{3 \\sin^{2}{\\left(x \\right)}}{x} + \\frac{3 \\cos^{2}{\\left(x \\right)}}{x} - \\frac{6 \\sin{\\left(x \\right)} \\cos{\\left(x \\right)}}{x^{2}} + \\frac{3 \\sin^{2}{\\left(x \\right)}}{x^{3}}\\right)}{x \\sin{\\left(x \\right)}}\\right) \\log{\\left(b \\right)} \\cos{\\left(b^{x} \\right)}}{\\sin{\\left(x \\right)}} + \\frac{8 \\left(\\frac{15 \\left(2 \\cos{\\left(x \\right)} - \\frac{\\sin{\\left(x \\right)}}{x}\\right) \\cos^{2}{\\left(x \\right)}}{\\sin^{2}{\\left(x \\right)}} + \\frac{15 \\left(2 \\cos{\\left(x \\right)} - \\frac{\\sin{\\left(x \\right)}}{x}\\right) \\cos^{4}{\\left(x \\right)}}{\\sin^{4}{\\left(x \\right)}} + \\frac{16 \\left(\\sin^{2}{\\left(x \\right)} - \\cos^{2}{\\left(x \\right)} + \\frac{2 \\sin{\\left(x \\right)} \\cos{\\left(x \\right)}}{x} - \\frac{\\sin^{2}{\\left(x \\right)}}{x^{2}}\\right) \\cos{\\left(x \\right)}}{\\sin^{2}{\\left(x \\right)}} + \\frac{24 \\left(\\sin^{2}{\\left(x \\right)} - \\cos^{2}{\\left(x \\right)} + \\frac{2 \\sin{\\left(x \\right)} \\cos{\\left(x \\right)}}{x} - \\frac{\\sin^{2}{\\left(x \\right)}}{x^{2}}\\right) \\cos^{3}{\\left(x \\right)}}{\\sin^{4}{\\left(x \\right)}} - \\frac{3 \\left(4 \\sin{\\left(x \\right)} \\cos{\\left(x \\right)} - \\frac{3 \\sin^{2}{\\left(x \\right)}}{x} + \\frac{3 \\cos^{2}{\\left(x \\right)}}{x} - \\frac{6 \\sin{\\left(x \\right)} \\cos{\\left(x \\right)}}{x^{2}} + \\frac{3 \\sin^{2}{\\left(x \\right)}}{x^{3}}\\right)}{\\sin{\\left(x \\right)}} - \\frac{9 \\left(4 \\sin{\\left(x \\right)} \\cos{\\left(x \\right)} - \\frac{3 \\sin^{2}{\\left(x \\right)}}{x} + \\frac{3 \\cos^{2}{\\left(x \\right)}}{x} - \\frac{6 \\sin{\\left(x \\right)} \\cos{\\left(x \\right)}}{x^{2}} + \\frac{3 \\sin^{2}{\\left(x \\right)}}{x^{3}}\\right) \\cos^{2}{\\left(x \\right)}}{\\sin^{3}{\\left(x \\right)}} - \\frac{8 \\left(\\sin^{2}{\\left(x \\right)} - \\cos^{2}{\\left(x \\right)} + \\frac{4 \\sin{\\left(x \\right)} \\cos{\\left(x \\right)}}{x} - \\frac{3 \\sin^{2}{\\left(x \\right)}}{x^{2}} + \\frac{3 \\cos^{2}{\\left(x \\right)}}{x^{2}} - \\frac{6 \\sin{\\left(x \\right)} \\cos{\\left(x \\right)}}{x^{3}} + \\frac{3 \\sin^{2}{\\left(x \\right)}}{x^{4}}\\right) \\cos{\\left(x \\right)}}{\\sin^{2}{\\left(x \\right)}} + \\frac{4 \\sin{\\left(x \\right)} \\cos{\\left(x \\right)} - \\frac{5 \\sin^{2}{\\left(x \\right)}}{x} + \\frac{5 \\cos^{2}{\\left(x \\right)}}{x} - \\frac{20 \\sin{\\left(x \\right)} \\cos{\\left(x \\right)}}{x^{2}} + \\frac{15 \\sin^{2}{\\left(x \\right)}}{x^{3}} - \\frac{15 \\cos^{2}{\\left(x \\right)}}{x^{3}} + \\frac{30 \\sin{\\left(x \\right)} \\cos{\\left(x \\right)}}{x^{4}} - \\frac{15 \\sin^{2}{\\left(x \\right)}}{x^{5}}}{\\sin{\\left(x \\right)}} + 4 \\cos{\\left(x \\right)} - \\frac{8 \\left(2 \\cos{\\left(x \\right)} - \\frac{\\sin{\\left(x \\right)}}{x}\\right) \\cos{\\left(x \\right)}}{x \\sin{\\left(x \\right)}} - \\frac{12 \\left(2 \\cos{\\left(x \\right)} - \\frac{\\sin{\\left(x \\right)}}{x}\\right) \\cos^{3}{\\left(x \\right)}}{x \\sin^{3}{\\left(x \\right)}} - \\frac{6 \\left(\\sin^{2}{\\left(x \\right)} - \\cos^{2}{\\left(x \\right)} + \\frac{2 \\sin{\\left(x \\right)} \\cos{\\left(x \\right)}}{x} - \\frac{\\sin^{2}{\\left(x \\right)}}{x^{2}}\\right)}{x \\sin{\\left(x \\right)}} - \\frac{18 \\left(\\sin^{2}{\\left(x \\right)} - \\cos^{2}{\\left(x \\right)} + \\frac{2 \\sin{\\left(x \\right)} \\cos{\\left(x \\right)}}{x} - \\frac{\\sin^{2}{\\left(x \\right)}}{x^{2}}\\right) \\cos^{2}{\\left(x \\right)}}{x \\sin^{3}{\\left(x \\right)}} + \\frac{6 \\left(4 \\sin{\\left(x \\right)} \\cos{\\left(x \\right)} - \\frac{3 \\sin^{2}{\\left(x \\right)}}{x} + \\frac{3 \\cos^{2}{\\left(x \\right)}}{x} - \\frac{6 \\sin{\\left(x \\right)} \\cos{\\left(x \\right)}}{x^{2}} + \\frac{3 \\sin^{2}{\\left(x \\right)}}{x^{3}}\\right) \\cos{\\left(x \\right)}}{x \\sin^{2}{\\left(x \\right)}} + \\frac{4 \\left(\\sin^{2}{\\left(x \\right)} - \\cos^{2}{\\left(x \\right)} + \\frac{4 \\sin{\\left(x \\right)} \\cos{\\left(x \\right)}}{x} - \\frac{3 \\sin^{2}{\\left(x \\right)}}{x^{2}} + \\frac{3 \\cos^{2}{\\left(x \\right)}}{x^{2}} - \\frac{6 \\sin{\\left(x \\right)} \\cos{\\left(x \\right)}}{x^{3}} + \\frac{3 \\sin^{2}{\\left(x \\right)}}{x^{4}}\\right)}{x \\sin{\\left(x \\right)}} - \\frac{2 \\sin{\\left(x \\right)}}{x}\\right) \\sin{\\left(b^{x} \\right)}}{\\sin{\\left(x \\right)}}\\right) e^{- a \\sin{\\left(x^{2} \\right)}}$"
      ],
      "text/plain": [
       "(-60*a*b**x*x*(b**x*sin(b**x) - cos(b**x))*(2*(2*cos(x) - sin(x)/x)*cos(x)/sin(x) + 2*(sin(x)**2 - cos(x)**2 + 2*sin(x)*cos(x)/x - sin(x)**2/x**2)/sin(x) - (2*cos(x) - sin(x)/x)/x)*log(b)**2*cos(x**2)/sin(x) - 40*a*b**x*x*(b**x*sin(b**x) - cos(b**x))*(-2*a**2*x**2*cos(x**2)**3 - 6*a*x**2*sin(x**2)*cos(x**2) + 3*a*cos(x**2)**2 + 2*x**2*cos(x**2) + 3*sin(x**2))*log(b)**2*log(c*sin(x)**2/x) + 40*a*b**x*x*(2*cos(x) - sin(x)/x)*(b**(2*x)*cos(b**x) + 3*b**x*sin(b**x) - cos(b**x))*log(b)**3*cos(x**2)/sin(x) + 80*a*b**x*x*(2*cos(x) - sin(x)/x)*(-2*a**2*x**2*cos(x**2)**3 - 6*a*x**2*sin(x**2)*cos(x**2) + 3*a*cos(x**2)**2 + 2*x**2*cos(x**2) + 3*sin(x**2))*log(b)*cos(b**x)/sin(x) - 10*a*b**x*x*(b**(3*x)*sin(b**x) - 6*b**(2*x)*cos(b**x) - 7*b**x*sin(b**x) + cos(b**x))*log(b)**4*log(c*sin(x)**2/x)*cos(x**2) + 80*a*b**x*x*(-3*(2*cos(x) - sin(x)/x)*cos(x)**2/sin(x)**2 - 4*(sin(x)**2 - cos(x)**2 + 2*sin(x)*cos(x)/x - sin(x)**2/x**2)*cos(x)/sin(x)**2 + (4*sin(x)*cos(x) - 3*sin(x)**2/x + 3*cos(x)**2/x - 6*sin(x)*cos(x)/x**2 + 3*sin(x)**2/x**3)/sin(x) - 2*cos(x) + 2*(2*cos(x) - sin(x)/x)*cos(x)/(x*sin(x)) + 2*(sin(x)**2 - cos(x)**2 + 2*sin(x)*cos(x)/x - sin(x)**2/x**2)/(x*sin(x)) + sin(x)/x)*log(b)*cos(b**x)*cos(x**2)/sin(x) - 60*a*b**x*(b**x*sin(b**x) - cos(b**x))*(2*cos(x) - sin(x)/x)*(2*a*x**2*cos(x**2)**2 + 2*x**2*sin(x**2) - cos(x**2))*log(b)**2/sin(x) - 20*a*b**x*(b**(2*x)*cos(b**x) + 3*b**x*sin(b**x) - cos(b**x))*(2*a*x**2*cos(x**2)**2 + 2*x**2*sin(x**2) - cos(x**2))*log(b)**3*log(c*sin(x)**2/x) - 60*a*b**x*(2*a*x**2*cos(x**2)**2 + 2*x**2*sin(x**2) - cos(x**2))*(2*(2*cos(x) - sin(x)/x)*cos(x)/sin(x) + 2*(sin(x)**2 - cos(x)**2 + 2*sin(x)*cos(x)/x - sin(x)**2/x**2)/sin(x) - (2*cos(x) - sin(x)/x)/x)*log(b)*cos(b**x)/sin(x) + 20*a*b**x*(4*a**3*x**4*cos(x**2)**4 + 24*a**2*x**4*sin(x**2)*cos(x**2)**2 - 12*a**2*x**2*cos(x**2)**3 + 12*a*x**4*sin(x**2)**2 - 16*a*x**4*cos(x**2)**2 - 36*a*x**2*sin(x**2)*cos(x**2) + 3*a*cos(x**2)**2 - 4*x**4*sin(x**2) + 12*x**2*cos(x**2) + 3*sin(x**2))*log(b)*log(c*sin(x)**2/x)*cos(b**x) - 40*a*x*(2*(2*cos(x) - sin(x)/x)*cos(x)/sin(x) + 2*(sin(x)**2 - cos(x)**2 + 2*sin(x)*cos(x)/x - sin(x)**2/x**2)/sin(x) - (2*cos(x) - sin(x)/x)/x)*(-2*a**2*x**2*cos(x**2)**3 - 6*a*x**2*sin(x**2)*cos(x**2) + 3*a*cos(x**2)**2 + 2*x**2*cos(x**2) + 3*sin(x**2))*sin(b**x)/sin(x) + 20*a*x*(8*(2*cos(x) - sin(x)/x)*cos(x)/sin(x) + 12*(2*cos(x) - sin(x)/x)*cos(x)**3/sin(x)**3 + 6*(sin(x)**2 - cos(x)**2 + 2*sin(x)*cos(x)/x - sin(x)**2/x**2)/sin(x) + 18*(sin(x)**2 - cos(x)**2 + 2*sin(x)*cos(x)/x - sin(x)**2/x**2)*cos(x)**2/sin(x)**3 - 6*(4*sin(x)*cos(x) - 3*sin(x)**2/x + 3*cos(x)**2/x - 6*sin(x)*cos(x)/x**2 + 3*sin(x)**2/x**3)*cos(x)/sin(x)**2 - 4*(sin(x)**2 - cos(x)**2 + 4*sin(x)*cos(x)/x - 3*sin(x)**2/x**2 + 3*cos(x)**2/x**2 - 6*sin(x)*cos(x)/x**3 + 3*sin(x)**2/x**4)/sin(x) - 3*(2*cos(x) - sin(x)/x)/x - 9*(2*cos(x) - sin(x)/x)*cos(x)**2/(x*sin(x)**2) - 12*(sin(x)**2 - cos(x)**2 + 2*sin(x)*cos(x)/x - sin(x)**2/x**2)*cos(x)/(x*sin(x)**2) + 3*(4*sin(x)*cos(x) - 3*sin(x)**2/x + 3*cos(x)**2/x - 6*sin(x)*cos(x)/x**2 + 3*sin(x)**2/x**3)/(x*sin(x)))*sin(b**x)*cos(x**2)/sin(x) - 8*a*x*(4*a**4*x**4*cos(x**2)**5 + 40*a**3*x**4*sin(x**2)*cos(x**2)**3 - 20*a**3*x**2*cos(x**2)**4 + 60*a**2*x**4*sin(x**2)**2*cos(x**2) - 40*a**2*x**4*cos(x**2)**3 - 120*a**2*x**2*sin(x**2)*cos(x**2)**2 + 15*a**2*cos(x**2)**3 - 60*a*x**4*sin(x**2)*cos(x**2) - 60*a*x**2*sin(x**2)**2 + 80*a*x**2*cos(x**2)**2 + 45*a*sin(x**2)*cos(x**2) + 4*x**4*cos(x**2) + 20*x**2*sin(x**2) - 15*cos(x**2))*log(c*sin(x)**2/x)*sin(b**x) + 20*a*(2*cos(x) - sin(x)/x)*(4*a**3*x**4*cos(x**2)**4 + 24*a**2*x**4*sin(x**2)*cos(x**2)**2 - 12*a**2*x**2*cos(x**2)**3 + 12*a*x**4*sin(x**2)**2 - 16*a*x**4*cos(x**2)**2 - 36*a*x**2*sin(x**2)*cos(x**2) + 3*a*cos(x**2)**2 - 4*x**4*sin(x**2) + 12*x**2*cos(x**2) + 3*sin(x**2))*sin(b**x)/sin(x) - 40*a*(2*a*x**2*cos(x**2)**2 + 2*x**2*sin(x**2) - cos(x**2))*(-3*(2*cos(x) - sin(x)/x)*cos(x)**2/sin(x)**2 - 4*(sin(x)**2 - cos(x)**2 + 2*sin(x)*cos(x)/x - sin(x)**2/x**2)*cos(x)/sin(x)**2 + (4*sin(x)*cos(x) - 3*sin(x)**2/x + 3*cos(x)**2/x - 6*sin(x)*cos(x)/x**2 + 3*sin(x)**2/x**3)/sin(x) - 2*cos(x) + 2*(2*cos(x) - sin(x)/x)*cos(x)/(x*sin(x)) + 2*(sin(x)**2 - cos(x)**2 + 2*sin(x)*cos(x)/x - sin(x)**2/x**2)/(x*sin(x)) + sin(x)/x)*sin(b**x)/sin(x) + 20*b**x*(b**x*sin(b**x) - cos(b**x))*(-3*(2*cos(x) - sin(x)/x)*cos(x)**2/sin(x)**2 - 4*(sin(x)**2 - cos(x)**2 + 2*sin(x)*cos(x)/x - sin(x)**2/x**2)*cos(x)/sin(x)**2 + (4*sin(x)*cos(x) - 3*sin(x)**2/x + 3*cos(x)**2/x - 6*sin(x)*cos(x)/x**2 + 3*sin(x)**2/x**3)/sin(x) - 2*cos(x) + 2*(2*cos(x) - sin(x)/x)*cos(x)/(x*sin(x)) + 2*(sin(x)**2 - cos(x)**2 + 2*sin(x)*cos(x)/x - sin(x)**2/x**2)/(x*sin(x)) + sin(x)/x)*log(b)**2/sin(x) + 5*b**x*(2*cos(x) - sin(x)/x)*(b**(3*x)*sin(b**x) - 6*b**(2*x)*cos(b**x) - 7*b**x*sin(b**x) + cos(b**x))*log(b)**4/sin(x) + 10*b**x*(b**(2*x)*cos(b**x) + 3*b**x*sin(b**x) - cos(b**x))*(2*(2*cos(x) - sin(x)/x)*cos(x)/sin(x) + 2*(sin(x)**2 - cos(x)**2 + 2*sin(x)*cos(x)/x - sin(x)**2/x**2)/sin(x) - (2*cos(x) - sin(x)/x)/x)*log(b)**3/sin(x) + b**x*(b**(4*x)*cos(b**x) + 10*b**(3*x)*sin(b**x) - 25*b**(2*x)*cos(b**x) - 15*b**x*sin(b**x) + cos(b**x))*log(b)**5*log(c*sin(x)**2/x) - 10*b**x*(8*(2*cos(x) - sin(x)/x)*cos(x)/sin(x) + 12*(2*cos(x) - sin(x)/x)*cos(x)**3/sin(x)**3 + 6*(sin(x)**2 - cos(x)**2 + 2*sin(x)*cos(x)/x - sin(x)**2/x**2)/sin(x) + 18*(sin(x)**2 - cos(x)**2 + 2*sin(x)*cos(x)/x - sin(x)**2/x**2)*cos(x)**2/sin(x)**3 - 6*(4*sin(x)*cos(x) - 3*sin(x)**2/x + 3*cos(x)**2/x - 6*sin(x)*cos(x)/x**2 + 3*sin(x)**2/x**3)*cos(x)/sin(x)**2 - 4*(sin(x)**2 - cos(x)**2 + 4*sin(x)*cos(x)/x - 3*sin(x)**2/x**2 + 3*cos(x)**2/x**2 - 6*sin(x)*cos(x)/x**3 + 3*sin(x)**2/x**4)/sin(x) - 3*(2*cos(x) - sin(x)/x)/x - 9*(2*cos(x) - sin(x)/x)*cos(x)**2/(x*sin(x)**2) - 12*(sin(x)**2 - cos(x)**2 + 2*sin(x)*cos(x)/x - sin(x)**2/x**2)*cos(x)/(x*sin(x)**2) + 3*(4*sin(x)*cos(x) - 3*sin(x)**2/x + 3*cos(x)**2/x - 6*sin(x)*cos(x)/x**2 + 3*sin(x)**2/x**3)/(x*sin(x)))*log(b)*cos(b**x)/sin(x) + 8*(15*(2*cos(x) - sin(x)/x)*cos(x)**2/sin(x)**2 + 15*(2*cos(x) - sin(x)/x)*cos(x)**4/sin(x)**4 + 16*(sin(x)**2 - cos(x)**2 + 2*sin(x)*cos(x)/x - sin(x)**2/x**2)*cos(x)/sin(x)**2 + 24*(sin(x)**2 - cos(x)**2 + 2*sin(x)*cos(x)/x - sin(x)**2/x**2)*cos(x)**3/sin(x)**4 - 3*(4*sin(x)*cos(x) - 3*sin(x)**2/x + 3*cos(x)**2/x - 6*sin(x)*cos(x)/x**2 + 3*sin(x)**2/x**3)/sin(x) - 9*(4*sin(x)*cos(x) - 3*sin(x)**2/x + 3*cos(x)**2/x - 6*sin(x)*cos(x)/x**2 + 3*sin(x)**2/x**3)*cos(x)**2/sin(x)**3 - 8*(sin(x)**2 - cos(x)**2 + 4*sin(x)*cos(x)/x - 3*sin(x)**2/x**2 + 3*cos(x)**2/x**2 - 6*sin(x)*cos(x)/x**3 + 3*sin(x)**2/x**4)*cos(x)/sin(x)**2 + (4*sin(x)*cos(x) - 5*sin(x)**2/x + 5*cos(x)**2/x - 20*sin(x)*cos(x)/x**2 + 15*sin(x)**2/x**3 - 15*cos(x)**2/x**3 + 30*sin(x)*cos(x)/x**4 - 15*sin(x)**2/x**5)/sin(x) + 4*cos(x) - 8*(2*cos(x) - sin(x)/x)*cos(x)/(x*sin(x)) - 12*(2*cos(x) - sin(x)/x)*cos(x)**3/(x*sin(x)**3) - 6*(sin(x)**2 - cos(x)**2 + 2*sin(x)*cos(x)/x - sin(x)**2/x**2)/(x*sin(x)) - 18*(sin(x)**2 - cos(x)**2 + 2*sin(x)*cos(x)/x - sin(x)**2/x**2)*cos(x)**2/(x*sin(x)**3) + 6*(4*sin(x)*cos(x) - 3*sin(x)**2/x + 3*cos(x)**2/x - 6*sin(x)*cos(x)/x**2 + 3*sin(x)**2/x**3)*cos(x)/(x*sin(x)**2) + 4*(sin(x)**2 - cos(x)**2 + 4*sin(x)*cos(x)/x - 3*sin(x)**2/x**2 + 3*cos(x)**2/x**2 - 6*sin(x)*cos(x)/x**3 + 3*sin(x)**2/x**4)/(x*sin(x)) - 2*sin(x)/x)*sin(b**x)/sin(x))*exp(-a*sin(x**2))"
      ]
     },
     "execution_count": 15,
     "metadata": {},
     "output_type": "execute_result"
    }
   ],
   "source": [
    "d5fdx5 = smp.diff(f, x, 5)\n",
    "d5fdx5"
   ]
  },
  {
   "cell_type": "markdown",
   "metadata": {},
   "source": [
    "podemos cacular los valores numéricos de la siguiente manera"
   ]
  },
  {
   "cell_type": "code",
   "execution_count": 16,
   "metadata": {},
   "outputs": [
    {
     "data": {
      "text/latex": [
       "$\\displaystyle -73035.8044625845$"
      ],
      "text/plain": [
       "-73035.8044625845"
      ]
     },
     "execution_count": 16,
     "metadata": {},
     "output_type": "execute_result"
    }
   ],
   "source": [
    "d4fdx4.subs([(x,4),(a,1),(b,2),(c,3)]).evalf()"
   ]
  },
  {
   "cell_type": "code",
   "execution_count": 17,
   "metadata": {},
   "outputs": [
    {
     "data": {
      "text/latex": [
       "$\\displaystyle -740774.171172891$"
      ],
      "text/plain": [
       "-740774.171172891"
      ]
     },
     "execution_count": 17,
     "metadata": {},
     "output_type": "execute_result"
    }
   ],
   "source": [
    "d5fdx5.subs([(x,4),(a,1),(b,2),(c,3)]).evalf()"
   ]
  },
  {
   "cell_type": "markdown",
   "metadata": {},
   "source": [
    "Podemos también convertirla a una función numerica para graficarla"
   ]
  },
  {
   "cell_type": "code",
   "execution_count": 18,
   "metadata": {},
   "outputs": [],
   "source": [
    "d4fdx4_f = smp.lambdify((x,a,b,c), d4fdx4)"
   ]
  },
  {
   "cell_type": "code",
   "execution_count": 19,
   "metadata": {},
   "outputs": [],
   "source": [
    "x = np.linspace(1,2,100)\n",
    "y = d4fdx4_f(x, a=1, b=2, c=3)"
   ]
  },
  {
   "cell_type": "code",
   "execution_count": 20,
   "metadata": {},
   "outputs": [
    {
     "data": {
      "text/plain": [
       "Text(0.5, 0, '$x$')"
      ]
     },
     "execution_count": 20,
     "metadata": {},
     "output_type": "execute_result"
    },
    {
     "data": {
      "image/png": "[encoded data removed]",
      "text/plain": [
       "<Figure size 432x288 with 1 Axes>"
      ]
     },
     "metadata": {
      "needs_background": "light"
     },
     "output_type": "display_data"
    }
   ],
   "source": [
    "from matplotlib import pyplot as plt\n",
    "plt.plot(x,y)\n",
    "plt.ylabel('$d^4 f / dx^4$', fontsize=20)\n",
    "plt.xlabel('$x$', fontsize=20)"
   ]
  },
  {
   "cell_type": "code",
   "execution_count": 36,
   "metadata": {},
   "outputs": [],
   "source": [
    "import latexify\n",
    "import math\n",
    "@latexify.function\n",
    "def solve(a,b,c):\n",
    "    return (-b+math.sqrt(b**2-4*a*c))/(2*a)"
   ]
  },
  {
   "cell_type": "code",
   "execution_count": 42,
   "metadata": {},
   "outputs": [
    {
     "data": {
      "text/latex": [
       "$$ \\displaystyle \\mathrm{solve}(a, b, c) = \\frac{-b + \\sqrt{b^{{2}} - {4} a c}}{{2} a} $$"
      ],
      "text/plain": [
       "<latexify.frontend.LatexifiedFunction at 0x292b988c5e0>"
      ]
     },
     "execution_count": 42,
     "metadata": {},
     "output_type": "execute_result"
    }
   ],
   "source": [
    "solve"
   ]
  }
 ],
 "metadata": {
  "kernelspec": {
   "display_name": "Python 3",
   "language": "python",
   "name": "python3"
  },
  "language_info": {
   "codemirror_mode": {
    "name": "ipython",
    "version": 3
   },
   "file_extension": ".py",
   "mimetype": "text/x-python",
   "name": "python",
   "nbconvert_exporter": "python",
   "pygments_lexer": "ipython3",
   "version": "3.9.7"
  },
  "orig_nbformat": 4
 },
 "nbformat": 4,
 "nbformat_minor": 2
}
